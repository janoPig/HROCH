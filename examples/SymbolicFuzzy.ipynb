{
  "nbformat": 4,
  "nbformat_minor": 0,
  "metadata": {
    "colab": {
      "provenance": [],
      "authorship_tag": "ABX9TyOmN9nS6o1wx0+914yAQuoC",
      "include_colab_link": true
    },
    "kernelspec": {
      "name": "python3",
      "display_name": "Python 3"
    },
    "language_info": {
      "name": "python"
    }
  },
  "cells": [
    {
      "cell_type": "markdown",
      "metadata": {
        "id": "view-in-github",
        "colab_type": "text"
      },
      "source": [
        "<a href=\"https://colab.research.google.com/github/janoPig/HROCH/blob/main/examples/SymbolicFuzzy.ipynb\" target=\"_parent\"><img src=\"https://colab.research.google.com/assets/colab-badge.svg\" alt=\"Open In Colab\"/></a>"
      ]
    },
    {
      "cell_type": "markdown",
      "source": [
        "# Symbolic fuzzy regression/classification demo"
      ],
      "metadata": {
        "id": "0wFPhO8-kMpk"
      }
    },
    {
      "cell_type": "code",
      "execution_count": null,
      "metadata": {
        "colab": {
          "base_uri": "https://localhost:8080/"
        },
        "id": "CzqA1TxTkG4V",
        "outputId": "70d79744-75d0-495e-8fff-eaf43589b5e1"
      },
      "outputs": [
        {
          "output_type": "stream",
          "name": "stdout",
          "text": [
            "Looking in indexes: https://pypi.org/simple, https://us-python.pkg.dev/colab-wheels/public/simple/\n",
            "Requirement already satisfied: HROCH in /usr/local/lib/python3.8/dist-packages (1.2.0)\n",
            "Requirement already satisfied: numpy in /usr/local/lib/python3.8/dist-packages (from HROCH) (1.21.6)\n",
            "Looking in indexes: https://pypi.org/simple, https://us-python.pkg.dev/colab-wheels/public/simple/\n",
            "Requirement already satisfied: pmlb in /usr/local/lib/python3.8/dist-packages (1.0.1.post3)\n",
            "Requirement already satisfied: requests>=2.24.0 in /usr/local/lib/python3.8/dist-packages (from pmlb) (2.25.1)\n",
            "Requirement already satisfied: pandas>=1.0.5 in /usr/local/lib/python3.8/dist-packages (from pmlb) (1.3.5)\n",
            "Requirement already satisfied: pyyaml>=5.3.1 in /usr/local/lib/python3.8/dist-packages (from pmlb) (6.0)\n",
            "Requirement already satisfied: pytz>=2017.3 in /usr/local/lib/python3.8/dist-packages (from pandas>=1.0.5->pmlb) (2022.7)\n",
            "Requirement already satisfied: numpy>=1.17.3 in /usr/local/lib/python3.8/dist-packages (from pandas>=1.0.5->pmlb) (1.21.6)\n",
            "Requirement already satisfied: python-dateutil>=2.7.3 in /usr/local/lib/python3.8/dist-packages (from pandas>=1.0.5->pmlb) (2.8.2)\n",
            "Requirement already satisfied: chardet<5,>=3.0.2 in /usr/local/lib/python3.8/dist-packages (from requests>=2.24.0->pmlb) (4.0.0)\n",
            "Requirement already satisfied: certifi>=2017.4.17 in /usr/local/lib/python3.8/dist-packages (from requests>=2.24.0->pmlb) (2022.12.7)\n",
            "Requirement already satisfied: idna<3,>=2.5 in /usr/local/lib/python3.8/dist-packages (from requests>=2.24.0->pmlb) (2.10)\n",
            "Requirement already satisfied: urllib3<1.27,>=1.21.1 in /usr/local/lib/python3.8/dist-packages (from requests>=2.24.0->pmlb) (1.24.3)\n",
            "Requirement already satisfied: six>=1.5 in /usr/local/lib/python3.8/dist-packages (from python-dateutil>=2.7.3->pandas>=1.0.5->pmlb) (1.15.0)\n"
          ]
        }
      ],
      "source": [
        "%pip install -U HROCH\n",
        "#Penn Machine Learning Benchmarks\n",
        "%pip install -U pmlb\n",
        "\n",
        "import pandas as pd\n",
        "import numpy as np\n",
        "from sklearn.metrics import mean_squared_error\n",
        "from sklearn.metrics import r2_score\n",
        "from sklearn.model_selection import train_test_split\n",
        "from pmlb import fetch_data\n",
        "from sklearn import tree\n",
        "from sklearn.ensemble import RandomForestRegressor\n",
        "from sklearn.tree import DecisionTreeRegressor\n",
        "from sklearn.ensemble import RandomForestClassifier\n",
        "from sklearn.tree import DecisionTreeClassifier\n",
        "from HROCH import PHCRegressor"
      ]
    },
    {
      "cell_type": "markdown",
      "source": [
        "## Regression\n",
        "\n",
        "Let's create a data set with 40 elements and satisfying the equation\n",
        "y = ((X1 & X16) | (!X4 & X19)) & (X23 | X26)"
      ],
      "metadata": {
        "id": "Ep4turozko8g"
      }
    },
    {
      "cell_type": "code",
      "source": [
        "X = np.random.uniform(low=0.0, high=1.0, size=(10000, 40))\n",
        "A = X[:, 0] * X[:, 15]\n",
        "B = (1.0 - X[:, 3]) * X[:, 18]\n",
        "C = A + B - A * B  # A or b\n",
        "D = X[:, 22] + X[:, 25] - X[:, 22] * X[:, 25]\n",
        "y = C * D\n",
        "\n",
        "X_train, X_test, y_train, y_test = train_test_split(X, y, train_size=0.75, random_state=42)"
      ],
      "metadata": {
        "id": "9w_NKdVLk8ia"
      },
      "execution_count": null,
      "outputs": []
    },
    {
      "cell_type": "markdown",
      "source": [
        "Fit with PHCRegressor produce correct equation\n",
        "\n"
      ],
      "metadata": {
        "id": "pYKy4xbhM1yA"
      }
    },
    {
      "cell_type": "code",
      "source": [
        "reg = PHCRegressor(iter_limit=5000000, num_threads=1, problem='fuzzy', stopping_criteria=0, random_state=42)\n",
        "reg.fit(X_train, y_train)\n",
        "\n",
        "# predict\n",
        "y_predicted = reg.predict(X_test)\n",
        "test_mse = mean_squared_error(y_predicted, y_test)\n",
        "test_r2 = r2_score(y_predicted, y_test)\n",
        "\n",
        "print(f'PHCRegressor: mse= {test_mse} r2= {test_r2} eq= {str(reg.sexpr)} ')"
      ],
      "metadata": {
        "colab": {
          "base_uri": "https://localhost:8080/"
        },
        "id": "gU8wz7tJv1iv",
        "outputId": "c7454ce6-2eb8-47dc-f336-34c0c160fc3b"
      },
      "execution_count": null,
      "outputs": [
        {
          "output_type": "stream",
          "name": "stdout",
          "text": [
            "PHCRegressor: mse= 8.485926183887007e-16 r2= 0.9999999999999803 eq= ((x23|x26)&((x16&x1)|(x19&(!x4))))\n",
            " \n"
          ]
        }
      ]
    },
    {
      "cell_type": "markdown",
      "source": [
        "Compare with DecisionTreeRegressor and RandomForestRegressor\n",
        "\n"
      ],
      "metadata": {
        "id": "M2NoDJHVyBHU"
      }
    },
    {
      "cell_type": "code",
      "source": [
        "reg = DecisionTreeRegressor()\n",
        "reg.fit(X_train, y_train)\n",
        "\n",
        "y_predicted = reg.predict(X_test)\n",
        "test_mse = mean_squared_error(y_predicted, y_test)\n",
        "test_r2 = r2_score(y_predicted, y_test)\n",
        "\n",
        "print(f'DecisionTreeRegressor: mse= {test_mse} r2= {test_r2}')\n"
      ],
      "metadata": {
        "colab": {
          "base_uri": "https://localhost:8080/"
        },
        "id": "X6Xpy-Llxqer",
        "outputId": "bcde1c04-83a8-4df4-a42a-152612837b1c"
      },
      "execution_count": null,
      "outputs": [
        {
          "output_type": "stream",
          "name": "stdout",
          "text": [
            "DecisionTreeRegressor: mse= 0.006423857643730605 r2= 0.8501713285772761\n"
          ]
        }
      ]
    },
    {
      "cell_type": "code",
      "source": [
        "reg = RandomForestRegressor()\n",
        "reg.fit(X_train, y_train)\n",
        "\n",
        "y_predicted = reg.predict(X_test)\n",
        "test_mse = mean_squared_error(y_predicted, y_test)\n",
        "test_r2 = r2_score(y_predicted, y_test)\n",
        "\n",
        "print(f'RandomForestRegressor: mse= {test_mse} r2= {test_r2}')"
      ],
      "metadata": {
        "colab": {
          "base_uri": "https://localhost:8080/"
        },
        "id": "lL6H1xxA3XaG",
        "outputId": "c0422dfe-0487-4068-e73d-f28c02ed7c52"
      },
      "execution_count": null,
      "outputs": [
        {
          "output_type": "stream",
          "name": "stdout",
          "text": [
            "RandomForestRegressor: mse= 0.0017124935140343546 r2= 0.9518370843775761\n"
          ]
        }
      ]
    },
    {
      "cell_type": "markdown",
      "source": [
        "## Classification\n",
        "\n",
        "A good simple example is the parity5 and parity5+5 dataset from pmlb. \n",
        "PHCRegressor will find equations (((x5^(x4^x3))^x1)^x2) or similar that can be simplified to this form. The equation Xor fits the parity calculation perfectly. The DecisionTreeClassifier and RandomForestClassifier fit the training data with an r2 score of 1.0, but absolutely not the test data."
      ],
      "metadata": {
        "id": "xnN6YljA3wiB"
      }
    },
    {
      "cell_type": "code",
      "source": [
        "datasets = [(fetch_data('parity5'), 'parity5'), (fetch_data('parity5+5'), 'parity5+5')]\n",
        "random_states = [42, 1083, 20133, 35879, 45688, 211565, 1212248, 58985945, 48994485, 5454544]\n",
        "classifiers = {PHCRegressor: {'problem':'fuzzy', 'iter_limit':5000000, 'num_threads':1}, DecisionTreeClassifier: {}, RandomForestClassifier: {}}\n",
        "\n",
        "for classifier, params in classifiers.items():\n",
        "  print(classifier.__name__)\n",
        "  for dataset, dataset_name in datasets:\n",
        "    print(dataset_name)\n",
        "    Y = np.ravel(pd.DataFrame(dataset, columns=['target']).to_numpy())\n",
        "    X = dataset.drop(columns=['target']).to_numpy()\n",
        "    for rs in random_states:\n",
        "      X_train, X_test, y_train, y_test = train_test_split(X, Y, train_size=0.75, test_size=0.25, random_state=rs)\n",
        "      clf = classifier(random_state=rs, **params)\n",
        "      clf.fit(X_train, y_train)\n",
        "      yp_train = clf.predict(X_train)\n",
        "      if classifier is PHCRegressor:\n",
        "        yp_train = (yp_train > 0.5)*1.0\n",
        "      r2_train = r2_score(y_train, yp_train)\n",
        "      rms_train = np.sqrt(mean_squared_error(y_train, yp_train))\n",
        "      yp = clf.predict(X_test)\n",
        "      if classifier is PHCRegressor:\n",
        "        yp = (yp > 0.5)*1.0\n",
        "      r2 = r2_score(y_test, yp)\n",
        "      rms = np.sqrt(mean_squared_error(y_test, yp))\n",
        "      print(f'train: r2={r2_train} rms={rms_train} test: r2={r2} rms={rms}')\n",
        "      if classifier is PHCRegressor:\n",
        "        print(f'eq: {clf.sexpr}')\n",
        "\n",
        "\n",
        "\n"
      ],
      "metadata": {
        "colab": {
          "base_uri": "https://localhost:8080/"
        },
        "id": "DM6EfrV242_I",
        "outputId": "7c797327-dfa8-48dc-d97b-fc459abb118e"
      },
      "execution_count": 43,
      "outputs": [
        {
          "output_type": "stream",
          "name": "stdout",
          "text": [
            "PHCRegressor\n",
            "parity5\n",
            "train: r2=1.0 rms=0.0 test: r2=1.0 rms=0.0\n",
            "eq: ((0.00000000000000000000)|(x2^((x5|x5)^(x4^(x1^x3)))))\n",
            "\n",
            "train: r2=1.0 rms=0.0 test: r2=1.0 rms=0.0\n",
            "eq: ((x4^x2)^(x5^((0.00000000000000000000)|((x1&x1)^x3))))\n",
            "\n",
            "train: r2=1.0 rms=0.0 test: r2=1.0 rms=0.0\n",
            "eq: (((x2&x2)^(((x1&x1)^x3)^(x5^x4)))&((x2&x2)^(((x1&x1)^x3)^(x5^x4))))\n",
            "\n",
            "train: r2=1.0 rms=0.0 test: r2=1.0 rms=0.0\n",
            "eq: (x4^(x5^(x3^(x1^x2))))\n",
            "\n",
            "train: r2=1.0 rms=0.0 test: r2=1.0 rms=0.0\n",
            "eq: (!((x5^(x4&x4))^((x2^(!x3))^x1)))\n",
            "\n",
            "train: r2=1.0 rms=0.0 test: r2=1.0 rms=0.0\n",
            "eq: (((x5^(x4^x3))^x1)^x2)\n",
            "\n",
            "train: r2=1.0 rms=0.0 test: r2=1.0 rms=0.0\n",
            "eq: (x2^(((x3^x1)^(x4^x5))|((x3^x1)^(x4^x5))))\n",
            "\n",
            "train: r2=1.0 rms=0.0 test: r2=1.0 rms=0.0\n",
            "eq: (x5^((x4&(!(!x4)))^(x3^(x2^x1))))\n",
            "\n",
            "train: r2=1.0 rms=0.0 test: r2=1.0 rms=0.0\n",
            "eq: (((x3^(x4^x2))^((0.00000000000000000000)|x1))^x5)\n",
            "\n",
            "train: r2=1.0 rms=0.0 test: r2=1.0 rms=0.0\n",
            "eq: (((0.00000000000000000000)|x1)^(x4^((x3^x2)^x5)))\n",
            "\n",
            "parity5+5\n",
            "train: r2=1.0 rms=0.0 test: r2=1.0 rms=0.0\n",
            "eq: (((!x3)^(!(!(x10^x10))))^((!((x4^(x8^x6))^x2))|(0.00000000000000000000)))\n",
            "\n",
            "train: r2=1.0 rms=0.0 test: r2=1.0 rms=0.0\n",
            "eq: (((1.00000000000000000000)&x6)^((x3^(!(x4^(!x8))))^(x2&x2)))\n",
            "\n",
            "train: r2=1.0 rms=0.0 test: r2=1.0 rms=0.0\n",
            "eq: (!(((!(x2^x6))^x4)^((!x3)^((1.00000000000000000000)^((!x8)^(((((!x3)&(!x3))^x3)|(((!x3)&(!x3))^x3))|(-0.22080147266387939453)))))))\n",
            "\n",
            "train: r2=1.0 rms=0.0 test: r2=1.0 rms=0.0\n",
            "eq: (x4^((((!x2)^x6)|((0.00003336164445499890)&(0.00003336164445499890)))^(!((!(!x3))^x8))))\n",
            "\n",
            "train: r2=1.0 rms=0.0 test: r2=1.0 rms=0.0\n",
            "eq: (((!((x10^x2)^x8))^x4)^((1.00000000000000000000)^((x6^x3)^x10)))\n",
            "\n",
            "train: r2=1.0 rms=0.0 test: r2=1.0 rms=0.0\n",
            "eq: (x8^((1.00000000000000000000)^(((!x3)^(x2^x4))^x6)))\n",
            "\n",
            "train: r2=1.0 rms=0.0 test: r2=1.0 rms=0.0\n",
            "eq: ((!(((x6|((x6^x8)|((x6^x8)&x9)))|(x2^(x3^((x6^x8)|((x6^x8)&x9)))))&(x2^(x3^((x6^x8)|((x6^x8)&x9))))))^(!(x4&(1.00000000000000000000))))\n",
            "\n",
            "train: r2=1.0 rms=0.0 test: r2=1.0 rms=0.0\n",
            "eq: ((!(!x3))^((((x2^x8)^x6)^x4)&(((x2^x8)^x6)^x4)))\n",
            "\n",
            "train: r2=1.0 rms=0.0 test: r2=1.0 rms=0.0\n",
            "eq: (x3^((!x4)^(((x6^x8)^(x7|((!x7)|(!x4))))^((!((0.00000000000000000000)&(0.00000000000000000000)))&(((0.00000000000000000000)&(0.00000000000000000000))|x2)))))\n",
            "\n",
            "train: r2=1.0 rms=0.0 test: r2=1.0 rms=0.0\n",
            "eq: (x4^((x2^x8)^((x5&(x3^x6))|((x3^x6)|((x3^x6)&(x3^x6))))))\n",
            "\n",
            "DecisionTreeClassifier\n",
            "parity5\n",
            "train: r2=1.0 rms=0.0 test: r2=-3.0 rms=0.8660254037844386\n",
            "train: r2=1.0 rms=0.0 test: r2=-2.5 rms=0.9354143466934853\n",
            "train: r2=1.0 rms=0.0 test: r2=-2.5 rms=0.9354143466934853\n",
            "train: r2=1.0 rms=0.0 test: r2=-3.2666666666666666 rms=1.0\n",
            "train: r2=1.0 rms=0.0 test: r2=-3.2666666666666666 rms=1.0\n",
            "train: r2=1.0 rms=0.0 test: r2=-2.7333333333333334 rms=0.9354143466934853\n",
            "train: r2=1.0 rms=0.0 test: r2=-2.7333333333333334 rms=0.9354143466934853\n",
            "train: r2=1.0 rms=0.0 test: r2=-3.2666666666666666 rms=1.0\n",
            "train: r2=1.0 rms=0.0 test: r2=-3.2666666666666666 rms=1.0\n",
            "train: r2=1.0 rms=0.0 test: r2=-2.5 rms=0.9354143466934853\n",
            "parity5+5\n",
            "train: r2=1.0 rms=0.0 test: r2=0.27246420956442274 rms=0.42602190310089477\n",
            "train: r2=1.0 rms=0.0 test: r2=0.31650957737914254 rms=0.4133019541909744\n",
            "train: r2=1.0 rms=0.0 test: r2=0.08907070083359059 rms=0.4734968724883278\n",
            "train: r2=1.0 rms=0.0 test: r2=-0.9567844342037892 rms=0.6956908545644072\n",
            "train: r2=1.0 rms=0.0 test: r2=-0.6227963525835867 rms=0.6369410884673212\n",
            "train: r2=1.0 rms=0.0 test: r2=0.1022819472616634 rms=0.4734968724883278\n",
            "train: r2=1.0 rms=0.0 test: r2=-0.12570993914807294 rms=0.5302252257631536\n",
            "train: r2=1.0 rms=0.0 test: r2=-0.8106037544393707 rms=0.6722776921582818\n",
            "train: r2=1.0 rms=0.0 test: r2=0.2269994905756494 rms=0.4383729217291347\n",
            "train: r2=1.0 rms=0.0 test: r2=-0.42238470191226085 rms=0.5935597419466607\n",
            "RandomForestClassifier\n",
            "parity5\n",
            "train: r2=1.0 rms=0.0 test: r2=-3.666666666666667 rms=0.9354143466934853\n",
            "train: r2=1.0 rms=0.0 test: r2=-3.0 rms=1.0\n",
            "train: r2=1.0 rms=0.0 test: r2=-3.0 rms=1.0\n",
            "train: r2=1.0 rms=0.0 test: r2=-3.2666666666666666 rms=1.0\n",
            "train: r2=1.0 rms=0.0 test: r2=-3.2666666666666666 rms=1.0\n",
            "train: r2=1.0 rms=0.0 test: r2=-3.2666666666666666 rms=1.0\n",
            "train: r2=1.0 rms=0.0 test: r2=-3.2666666666666666 rms=1.0\n",
            "train: r2=1.0 rms=0.0 test: r2=-3.2666666666666666 rms=1.0\n",
            "train: r2=1.0 rms=0.0 test: r2=-3.2666666666666666 rms=1.0\n",
            "train: r2=1.0 rms=0.0 test: r2=-2.5 rms=0.9354143466934853\n",
            "parity5+5\n",
            "train: r2=1.0 rms=0.0 test: r2=-0.3980099502487562 rms=0.5905543568534369\n",
            "train: r2=1.0 rms=0.0 test: r2=-0.4666565318739233 rms=0.60543211238307\n",
            "train: r2=1.0 rms=0.0 test: r2=-0.532674693835546 rms=0.6141858019266289\n",
            "train: r2=1.0 rms=0.0 test: r2=-0.8272913466461855 rms=0.6722776921582818\n",
            "train: r2=1.0 rms=0.0 test: r2=-0.6227963525835867 rms=0.6369410884673212\n",
            "train: r2=1.0 rms=0.0 test: r2=-0.7811866125760647 rms=0.6669631606402602\n",
            "train: r2=1.0 rms=0.0 test: r2=-0.6814401622718051 rms=0.6480191552900082\n",
            "train: r2=1.0 rms=0.0 test: r2=-0.767833587011669 rms=0.6642899508422776\n",
            "train: r2=1.0 rms=0.0 test: r2=-0.1738155883851249 rms=0.5401989879842585\n",
            "train: r2=1.0 rms=0.0 test: r2=-1.054555680539932 rms=0.7133700282132863\n"
          ]
        }
      ]
    }
  ]
}